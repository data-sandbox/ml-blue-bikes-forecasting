{
 "cells": [
  {
   "attachments": {},
   "cell_type": "markdown",
   "metadata": {},
   "source": [
    "## 01 Ridership Time Series Forecasting\n",
    "This notebook uses machine learning time series analysis to forecast demand for the Boston Bluebikes bikeshare system.\n",
    "\n",
    "### Notebook Objectives\n",
    "1. Process zip files to extract all trip data from 2015 to present\n",
    "2. Pickle the processed trips dataframe for future operations\n",
    "3. Use ML time series techniques to model the drift, seasonality, and residual noise"
   ]
  },
  {
   "cell_type": "code",
   "execution_count": 123,
   "metadata": {},
   "outputs": [],
   "source": [
    "from pathlib import Path\n",
    "from zipfile import ZipFile\n",
    "import pandas as pd\n",
    "import logging\n",
    "import matplotlib.pyplot as plt\n",
    "import seaborn as sns\n",
    "sns.set()\n",
    "\n",
    "logging.basicConfig(filename='preprocess.log', filemode='w', \n",
    "        level=logging.DEBUG, force=True,\n",
    "        format='%(asctime)s %(levelname)s:%(message)s')"
   ]
  },
  {
   "cell_type": "code",
   "execution_count": 36,
   "metadata": {},
   "outputs": [],
   "source": [
    "# Extract trips data from https://s3.amazonaws.com/hubway-data/index.html\n",
    "for path in Path('../data/').glob('*.zip'):\n",
    "    with ZipFile(path, mode=\"r\") as z:\n",
    "        z.extractall(Path('../data/extracted/'))"
   ]
  },
  {
   "cell_type": "code",
   "execution_count": 37,
   "metadata": {},
   "outputs": [],
   "source": [
    "# Generate dataframe with trips data\n",
    "trips = pd.DataFrame()\n",
    "for path in Path('../data/extracted/').glob('*.csv'):\n",
    "    logging.info(f'Processing {path}')\n",
    "    trips = pd.concat([trips, pd.read_csv(path)])\n",
    "\n",
    "# Pickle results\n",
    "trips.to_pickle(Path('../assets/trips_df.pkl'))"
   ]
  },
  {
   "cell_type": "code",
   "execution_count": 47,
   "metadata": {},
   "outputs": [],
   "source": [
    "# Load pickled dataframe (2.6 GB! Lots of data here)\n",
    "trips = pd.read_pickle(Path('../assets/trips_df.pkl'))"
   ]
  },
  {
   "cell_type": "code",
   "execution_count": 51,
   "metadata": {},
   "outputs": [
    {
     "name": "stdout",
     "output_type": "stream",
     "text": [
      "Shape: (16868559, 16)\n"
     ]
    }
   ],
   "source": [
    "# Inspect data (Over 16 million observations!)\n",
    "print(f'Shape: {trips.shape}')"
   ]
  },
  {
   "cell_type": "code",
   "execution_count": 57,
   "metadata": {},
   "outputs": [
    {
     "data": {
      "text/plain": [
       "tripduration                 int64\n",
       "starttime                   object\n",
       "stoptime                    object\n",
       "start station id             int64\n",
       "start station name          object\n",
       "start station latitude     float64\n",
       "start station longitude    float64\n",
       "end station id              object\n",
       "end station name            object\n",
       "end station latitude        object\n",
       "end station longitude       object\n",
       "bikeid                       int64\n",
       "usertype                    object\n",
       "postal code                 object\n",
       "birth year                  object\n",
       "gender                     float64\n",
       "dtype: object"
      ]
     },
     "execution_count": 57,
     "metadata": {},
     "output_type": "execute_result"
    }
   ],
   "source": [
    "# Inspect columns and datatypes\n",
    "trips.dtypes"
   ]
  },
  {
   "cell_type": "code",
   "execution_count": 59,
   "metadata": {},
   "outputs": [],
   "source": [
    "# Convert to datetime\n",
    "trips['starttime'] = pd.to_datetime(trips['starttime'], format='%Y-%m-%d')\n",
    "trips['stoptime'] = pd.to_datetime(trips['stoptime'], format='%Y-%m-%d')"
   ]
  },
  {
   "cell_type": "code",
   "execution_count": 131,
   "metadata": {},
   "outputs": [],
   "source": [
    "# Get daily trip counts\n",
    "trips_daily = trips.groupby(by=[trips['starttime'].dt.date], \n",
    "                             as_index=True).agg(count=('tripduration', 'count'))\n",
    "trips_daily.index = pd.Index(trips_daily.index).rename('date')"
   ]
  },
  {
   "cell_type": "code",
   "execution_count": 132,
   "metadata": {},
   "outputs": [
    {
     "name": "stdout",
     "output_type": "stream",
     "text": [
      "(2947, 1)\n"
     ]
    },
    {
     "data": {
      "text/html": [
       "<div>\n",
       "<style scoped>\n",
       "    .dataframe tbody tr th:only-of-type {\n",
       "        vertical-align: middle;\n",
       "    }\n",
       "\n",
       "    .dataframe tbody tr th {\n",
       "        vertical-align: top;\n",
       "    }\n",
       "\n",
       "    .dataframe thead th {\n",
       "        text-align: right;\n",
       "    }\n",
       "</style>\n",
       "<table border=\"1\" class=\"dataframe\">\n",
       "  <thead>\n",
       "    <tr style=\"text-align: right;\">\n",
       "      <th></th>\n",
       "      <th>count</th>\n",
       "    </tr>\n",
       "    <tr>\n",
       "      <th>date</th>\n",
       "      <th></th>\n",
       "    </tr>\n",
       "  </thead>\n",
       "  <tbody>\n",
       "    <tr>\n",
       "      <th>2015-01-01</th>\n",
       "      <td>127</td>\n",
       "    </tr>\n",
       "    <tr>\n",
       "      <th>2015-01-02</th>\n",
       "      <td>213</td>\n",
       "    </tr>\n",
       "    <tr>\n",
       "      <th>2015-01-03</th>\n",
       "      <td>142</td>\n",
       "    </tr>\n",
       "    <tr>\n",
       "      <th>2015-01-04</th>\n",
       "      <td>112</td>\n",
       "    </tr>\n",
       "    <tr>\n",
       "      <th>2015-01-05</th>\n",
       "      <td>337</td>\n",
       "    </tr>\n",
       "  </tbody>\n",
       "</table>\n",
       "</div>"
      ],
      "text/plain": [
       "            count\n",
       "date             \n",
       "2015-01-01    127\n",
       "2015-01-02    213\n",
       "2015-01-03    142\n",
       "2015-01-04    112\n",
       "2015-01-05    337"
      ]
     },
     "execution_count": 132,
     "metadata": {},
     "output_type": "execute_result"
    }
   ],
   "source": [
    "# Inspect number of observations post groupby\n",
    "print(trips_daily.shape)\n",
    "trips_daily.head()"
   ]
  },
  {
   "cell_type": "code",
   "execution_count": 128,
   "metadata": {},
   "outputs": [
    {
     "data": {
      "image/png": "[encoded data removed]",
      "text/plain": [
       "<Figure size 640x480 with 1 Axes>"
      ]
     },
     "metadata": {},
     "output_type": "display_data"
    }
   ],
   "source": [
    "trips_daily.plot()\n",
    "plt.ylabel('Rides per day');"
   ]
  },
  {
   "cell_type": "code",
   "execution_count": null,
   "metadata": {},
   "outputs": [],
   "source": []
  }
 ],
 "metadata": {
  "kernelspec": {
   "display_name": ".venv_bikes",
   "language": "python",
   "name": "python3"
  },
  "language_info": {
   "codemirror_mode": {
    "name": "ipython",
    "version": 3
   },
   "file_extension": ".py",
   "mimetype": "text/x-python",
   "name": "python",
   "nbconvert_exporter": "python",
   "pygments_lexer": "ipython3",
   "version": "3.9.12"
  },
  "orig_nbformat": 4
 },
 "nbformat": 4,
 "nbformat_minor": 2
}
